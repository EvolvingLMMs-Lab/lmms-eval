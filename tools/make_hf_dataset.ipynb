{
 "cells": [
  {
   "cell_type": "code",
   "execution_count": 41,
   "metadata": {},
   "outputs": [],
   "source": [
    "# This notebook will guide you to make correct format of Huggingface dataset, in proper parquet format and visualizable in Huggingface dataset hub.\n",
    "# We will take the example of the dataset \"Otter-AI/MMVet\" and convert it to the proper format."
   ]
  },
  {
   "cell_type": "code",
   "execution_count": 42,
   "metadata": {},
   "outputs": [
    {
     "name": "stderr",
     "output_type": "stream",
     "text": [
      "Using the latest cached version of the module from /mnt/bn/vl-research/workspace/boli01/.cache/huggingface/modules/datasets_modules/datasets/Otter-AI--MMVet/6d200bb35cad2b1e5ad857234f8bb5c27972216cce956017a17d17eba36f98bf (last modified on Sun Jan  7 04:41:42 2024) since it couldn't be found locally at Otter-AI/MMVet, or remotely on the Hugging Face Hub.\n"
     ]
    },
    {
     "data": {
      "text/html": [
       "<div>\n",
       "<style scoped>\n",
       "    .dataframe tbody tr th:only-of-type {\n",
       "        vertical-align: middle;\n",
       "    }\n",
       "\n",
       "    .dataframe tbody tr th {\n",
       "        vertical-align: top;\n",
       "    }\n",
       "\n",
       "    .dataframe thead th {\n",
       "        text-align: right;\n",
       "    }\n",
       "</style>\n",
       "<table border=\"1\" class=\"dataframe\">\n",
       "  <thead>\n",
       "    <tr style=\"text-align: right;\">\n",
       "      <th></th>\n",
       "      <th>id</th>\n",
       "      <th>instruction</th>\n",
       "      <th>answer</th>\n",
       "      <th>images</th>\n",
       "      <th>image_source</th>\n",
       "      <th>capability</th>\n",
       "    </tr>\n",
       "  </thead>\n",
       "  <tbody>\n",
       "    <tr>\n",
       "      <th>0</th>\n",
       "      <td>v1_0</td>\n",
       "      <td>What is x in the equation?</td>\n",
       "      <td>-1&lt;AND&gt;-5</td>\n",
       "      <td>[{'bytes': b'\\x89PNG\\r\\n\\x1a\\n\\x00\\x00\\x00\\rIH...</td>\n",
       "      <td>web</td>\n",
       "      <td>[ocr, math]</td>\n",
       "    </tr>\n",
       "    <tr>\n",
       "      <th>1</th>\n",
       "      <td>v1_1</td>\n",
       "      <td>What is d in the last equation?</td>\n",
       "      <td>1.25&lt;OR&gt;=1.25&lt;OR&gt;5/4</td>\n",
       "      <td>[{'bytes': b'\\x89PNG\\r\\n\\x1a\\n\\x00\\x00\\x00\\rIH...</td>\n",
       "      <td>web</td>\n",
       "      <td>[ocr, math]</td>\n",
       "    </tr>\n",
       "    <tr>\n",
       "      <th>2</th>\n",
       "      <td>v1_2</td>\n",
       "      <td>What is x in the equation?</td>\n",
       "      <td>0.75&lt;OR&gt;=0.75&lt;OR&gt;3/4</td>\n",
       "      <td>[{'bytes': b'\\x89PNG\\r\\n\\x1a\\n\\x00\\x00\\x00\\rIH...</td>\n",
       "      <td>web</td>\n",
       "      <td>[ocr, math]</td>\n",
       "    </tr>\n",
       "    <tr>\n",
       "      <th>3</th>\n",
       "      <td>v1_3</td>\n",
       "      <td>What is the answer to the bottom left equation?</td>\n",
       "      <td>12&lt;OR&gt;=12</td>\n",
       "      <td>[{'bytes': b'\\x89PNG\\r\\n\\x1a\\n\\x00\\x00\\x00\\rIH...</td>\n",
       "      <td>web</td>\n",
       "      <td>[ocr, spat, math]</td>\n",
       "    </tr>\n",
       "    <tr>\n",
       "      <th>4</th>\n",
       "      <td>v1_4</td>\n",
       "      <td>What is the answer to the second equation on t...</td>\n",
       "      <td>7&lt;OR&gt;=7</td>\n",
       "      <td>[{'bytes': b'\\x89PNG\\r\\n\\x1a\\n\\x00\\x00\\x00\\rIH...</td>\n",
       "      <td>web</td>\n",
       "      <td>[ocr, spat, math]</td>\n",
       "    </tr>\n",
       "  </tbody>\n",
       "</table>\n",
       "</div>"
      ],
      "text/plain": [
       "     id                                        instruction  \\\n",
       "0  v1_0                         What is x in the equation?   \n",
       "1  v1_1                    What is d in the last equation?   \n",
       "2  v1_2                         What is x in the equation?   \n",
       "3  v1_3    What is the answer to the bottom left equation?   \n",
       "4  v1_4  What is the answer to the second equation on t...   \n",
       "\n",
       "                 answer                                             images  \\\n",
       "0             -1<AND>-5  [{'bytes': b'\\x89PNG\\r\\n\\x1a\\n\\x00\\x00\\x00\\rIH...   \n",
       "1  1.25<OR>=1.25<OR>5/4  [{'bytes': b'\\x89PNG\\r\\n\\x1a\\n\\x00\\x00\\x00\\rIH...   \n",
       "2  0.75<OR>=0.75<OR>3/4  [{'bytes': b'\\x89PNG\\r\\n\\x1a\\n\\x00\\x00\\x00\\rIH...   \n",
       "3             12<OR>=12  [{'bytes': b'\\x89PNG\\r\\n\\x1a\\n\\x00\\x00\\x00\\rIH...   \n",
       "4               7<OR>=7  [{'bytes': b'\\x89PNG\\r\\n\\x1a\\n\\x00\\x00\\x00\\rIH...   \n",
       "\n",
       "  image_source         capability  \n",
       "0          web        [ocr, math]  \n",
       "1          web        [ocr, math]  \n",
       "2          web        [ocr, math]  \n",
       "3          web  [ocr, spat, math]  \n",
       "4          web  [ocr, spat, math]  "
      ]
     },
     "execution_count": 42,
     "metadata": {},
     "output_type": "execute_result"
    }
   ],
   "source": [
    "from datasets import load_dataset\n",
    "data_path = \"Otter-AI/MMVet\"\n",
    "df = load_dataset(data_path, split=\"test\").to_pandas()\n",
    "df.head()"
   ]
  },
  {
   "cell_type": "code",
   "execution_count": 48,
   "metadata": {},
   "outputs": [],
   "source": [
    "from datasets import Dataset, Features, Value, Image\n",
    "import pandas as pd\n",
    "# Define the features for the dataset\n",
    "features = Features({\n",
    "    'question_id': Value(dtype='string'),\n",
    "    'image': Image(),\n",
    "    'question': Value(dtype='string'),\n",
    "    'answer': Value(dtype='string'),\n",
    "    'image_source': Value(dtype='string'),\n",
    "    'capability': Value(dtype='string'),\n",
    "    # Add other fields as necessary\n",
    "})\n",
    "\n",
    "df_items = {\n",
    "    \"question_id\": [],\n",
    "    \"image\": [],\n",
    "    \"question\": [],\n",
    "    \"answer\": [],\n",
    "    \"image_source\": [],\n",
    "    \"capability\": [],\n",
    "}\n",
    "\n",
    "for idx, row in df.iterrows():\n",
    "    df_items[\"question_id\"].append(str(row[\"id\"]))\n",
    "    image = {\n",
    "        \"bytes\": row[\"images\"][0][\"bytes\"],\n",
    "        \"path\": \"\"\n",
    "    }\n",
    "    df_items[\"image\"].append(image)\n",
    "    df_items[\"question\"].append(str(row[\"instruction\"]))\n",
    "    df_items[\"answer\"].append(str(row[\"answer\"]))\n",
    "    df_items[\"image_source\"].append(str(row[\"image_source\"]))\n",
    "    df_items[\"capability\"].append(\",\".join(list(row[\"capability\"])))\n",
    "    # Add other fields as necessary\n",
    "\n",
    "df_items = pd.DataFrame(df_items)"
   ]
  },
  {
   "cell_type": "code",
   "execution_count": 49,
   "metadata": {},
   "outputs": [
    {
     "data": {
      "text/html": [
       "<div>\n",
       "<style scoped>\n",
       "    .dataframe tbody tr th:only-of-type {\n",
       "        vertical-align: middle;\n",
       "    }\n",
       "\n",
       "    .dataframe tbody tr th {\n",
       "        vertical-align: top;\n",
       "    }\n",
       "\n",
       "    .dataframe thead th {\n",
       "        text-align: right;\n",
       "    }\n",
       "</style>\n",
       "<table border=\"1\" class=\"dataframe\">\n",
       "  <thead>\n",
       "    <tr style=\"text-align: right;\">\n",
       "      <th></th>\n",
       "      <th>question_id</th>\n",
       "      <th>image</th>\n",
       "      <th>question</th>\n",
       "      <th>answer</th>\n",
       "      <th>image_source</th>\n",
       "      <th>capability</th>\n",
       "    </tr>\n",
       "  </thead>\n",
       "  <tbody>\n",
       "    <tr>\n",
       "      <th>0</th>\n",
       "      <td>v1_0</td>\n",
       "      <td>{'bytes': b'\\x89PNG\\r\\n\\x1a\\n\\x00\\x00\\x00\\rIHD...</td>\n",
       "      <td>What is x in the equation?</td>\n",
       "      <td>-1&lt;AND&gt;-5</td>\n",
       "      <td>web</td>\n",
       "      <td>ocr,math</td>\n",
       "    </tr>\n",
       "    <tr>\n",
       "      <th>1</th>\n",
       "      <td>v1_1</td>\n",
       "      <td>{'bytes': b'\\x89PNG\\r\\n\\x1a\\n\\x00\\x00\\x00\\rIHD...</td>\n",
       "      <td>What is d in the last equation?</td>\n",
       "      <td>1.25&lt;OR&gt;=1.25&lt;OR&gt;5/4</td>\n",
       "      <td>web</td>\n",
       "      <td>ocr,math</td>\n",
       "    </tr>\n",
       "    <tr>\n",
       "      <th>2</th>\n",
       "      <td>v1_2</td>\n",
       "      <td>{'bytes': b'\\x89PNG\\r\\n\\x1a\\n\\x00\\x00\\x00\\rIHD...</td>\n",
       "      <td>What is x in the equation?</td>\n",
       "      <td>0.75&lt;OR&gt;=0.75&lt;OR&gt;3/4</td>\n",
       "      <td>web</td>\n",
       "      <td>ocr,math</td>\n",
       "    </tr>\n",
       "    <tr>\n",
       "      <th>3</th>\n",
       "      <td>v1_3</td>\n",
       "      <td>{'bytes': b'\\x89PNG\\r\\n\\x1a\\n\\x00\\x00\\x00\\rIHD...</td>\n",
       "      <td>What is the answer to the bottom left equation?</td>\n",
       "      <td>12&lt;OR&gt;=12</td>\n",
       "      <td>web</td>\n",
       "      <td>ocr,spat,math</td>\n",
       "    </tr>\n",
       "    <tr>\n",
       "      <th>4</th>\n",
       "      <td>v1_4</td>\n",
       "      <td>{'bytes': b'\\x89PNG\\r\\n\\x1a\\n\\x00\\x00\\x00\\rIHD...</td>\n",
       "      <td>What is the answer to the second equation on t...</td>\n",
       "      <td>7&lt;OR&gt;=7</td>\n",
       "      <td>web</td>\n",
       "      <td>ocr,spat,math</td>\n",
       "    </tr>\n",
       "  </tbody>\n",
       "</table>\n",
       "</div>"
      ],
      "text/plain": [
       "  question_id                                              image  \\\n",
       "0        v1_0  {'bytes': b'\\x89PNG\\r\\n\\x1a\\n\\x00\\x00\\x00\\rIHD...   \n",
       "1        v1_1  {'bytes': b'\\x89PNG\\r\\n\\x1a\\n\\x00\\x00\\x00\\rIHD...   \n",
       "2        v1_2  {'bytes': b'\\x89PNG\\r\\n\\x1a\\n\\x00\\x00\\x00\\rIHD...   \n",
       "3        v1_3  {'bytes': b'\\x89PNG\\r\\n\\x1a\\n\\x00\\x00\\x00\\rIHD...   \n",
       "4        v1_4  {'bytes': b'\\x89PNG\\r\\n\\x1a\\n\\x00\\x00\\x00\\rIHD...   \n",
       "\n",
       "                                            question                answer  \\\n",
       "0                         What is x in the equation?             -1<AND>-5   \n",
       "1                    What is d in the last equation?  1.25<OR>=1.25<OR>5/4   \n",
       "2                         What is x in the equation?  0.75<OR>=0.75<OR>3/4   \n",
       "3    What is the answer to the bottom left equation?             12<OR>=12   \n",
       "4  What is the answer to the second equation on t...               7<OR>=7   \n",
       "\n",
       "  image_source     capability  \n",
       "0          web       ocr,math  \n",
       "1          web       ocr,math  \n",
       "2          web       ocr,math  \n",
       "3          web  ocr,spat,math  \n",
       "4          web  ocr,spat,math  "
      ]
     },
     "execution_count": 49,
     "metadata": {},
     "output_type": "execute_result"
    }
   ],
   "source": [
    "df_items.head()"
   ]
  },
  {
   "cell_type": "code",
   "execution_count": 50,
   "metadata": {},
   "outputs": [],
   "source": [
    "dataset = Dataset.from_pandas(df_items, features=features)"
   ]
  },
  {
   "cell_type": "code",
   "execution_count": 52,
   "metadata": {},
   "outputs": [
    {
     "data": {
      "application/vnd.jupyter.widget-view+json": {
       "model_id": "e651894fc6ab4b749b44c671c8ba6cb8",
       "version_major": 2,
       "version_minor": 0
      },
      "text/plain": [
       "Uploading the dataset shards:   0%|          | 0/1 [00:00<?, ?it/s]"
      ]
     },
     "metadata": {},
     "output_type": "display_data"
    },
    {
     "data": {
      "application/vnd.jupyter.widget-view+json": {
       "model_id": "115da8dc22894cdd940d80df686f1de6",
       "version_major": 2,
       "version_minor": 0
      },
      "text/plain": [
       "Map:   0%|          | 0/218 [00:00<?, ? examples/s]"
      ]
     },
     "metadata": {},
     "output_type": "display_data"
    },
    {
     "data": {
      "application/vnd.jupyter.widget-view+json": {
       "model_id": "766c7c8147b44d25933870c30bba7f43",
       "version_major": 2,
       "version_minor": 0
      },
      "text/plain": [
       "Creating parquet from Arrow format:   0%|          | 0/3 [00:00<?, ?ba/s]"
      ]
     },
     "metadata": {},
     "output_type": "display_data"
    },
    {
     "data": {
      "application/vnd.jupyter.widget-view+json": {
       "model_id": "aec7bb376b074bfa87fa8cc77f37d837",
       "version_major": 2,
       "version_minor": 0
      },
      "text/plain": [
       "  0%|          | 0/1 [00:00<?, ?it/s]"
      ]
     },
     "metadata": {},
     "output_type": "display_data"
    },
    {
     "name": "stderr",
     "output_type": "stream",
     "text": [
      "/home/tiger/miniconda3/envs/lmms-eval/lib/python3.9/site-packages/huggingface_hub/lfs.py:316: UserWarning: hf_transfer is enabled but does not support uploading from bytes or BinaryIO, falling back to regular upload\n",
      "  warnings.warn(\n"
     ]
    },
    {
     "data": {
      "text/plain": [
       "CommitInfo(commit_url='https://huggingface.co/datasets/lmms-lab/MMVet/commit/6f71fdadf11f9cfbb8048e3fab4c2687f08e01e1', commit_message='Upload dataset', commit_description='', oid='6f71fdadf11f9cfbb8048e3fab4c2687f08e01e1', pr_url=None, pr_revision=None, pr_num=None)"
      ]
     },
     "execution_count": 52,
     "metadata": {},
     "output_type": "execute_result"
    }
   ],
   "source": [
    "hub_dataset_path = \"lmms-lab/MMVet\"\n",
    "dataset.push_to_hub(repo_id=hub_dataset_path, split=\"test\")"
   ]
  }
 ],
 "metadata": {
  "kernelspec": {
   "display_name": "lmms-eval",
   "language": "python",
   "name": "python3"
  },
  "language_info": {
   "codemirror_mode": {
    "name": "ipython",
    "version": 3
   },
   "file_extension": ".py",
   "mimetype": "text/x-python",
   "name": "python",
   "nbconvert_exporter": "python",
   "pygments_lexer": "ipython3",
   "version": "3.9.18"
  }
 },
 "nbformat": 4,
 "nbformat_minor": 2
}
